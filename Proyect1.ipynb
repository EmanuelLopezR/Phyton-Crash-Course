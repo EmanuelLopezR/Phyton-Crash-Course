{
 "cells": [
  {
   "cell_type": "code",
   "execution_count": 2,
   "source": [
    "print('Hello World')"
   ],
   "outputs": [
    {
     "output_type": "stream",
     "name": "stdout",
     "text": [
      "Hello World\n"
     ]
    }
   ],
   "metadata": {}
  }
 ],
 "metadata": {
  "kernelspec": {
   "name": "python3",
   "display_name": "Python 3.11.0 64-bit ('jupyternb': venv)"
  },
  "language_info": {
   "codemirror_mode": {
    "name": "ipython",
    "version": 3
   },
   "file_extension": ".py",
   "mimetype": "text/x-python",
   "name": "python",
   "nbconvert_exporter": "python",
   "pygments_lexer": "ipython3",
   "version": "3.11.0"
  },
  "interpreter": {
   "hash": "94eab89ff4a727c2c9246ecbef43f01d3ddc7c9e52f4a523c081b07d441db8e8"
  }
 },
 "nbformat": 4,
 "nbformat_minor": 5
}